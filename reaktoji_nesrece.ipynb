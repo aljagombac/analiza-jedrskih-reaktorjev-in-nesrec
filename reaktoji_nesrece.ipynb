{
 "cells": [
  {
   "cell_type": "markdown",
   "metadata": {},
   "source": [
    "# Analiza jedrskih reaktorjev v komercialni uporabi in jedrskih nesreč po državah\n",
    "\n",
    "Pri projektni nalogi predmeta Uvod v programiranje bom analizirala podatke o jedrskih reaktojih, ki proizvajajo elektriko za različne države po svetu ter tudi nesreče, ki so jih povzročili. Podatke sem pridobila iz dveh spletnih strani, https://en.wikipedia.org/wiki/List_of_commercial_nuclear_reactors in https://en.wikipedia.org/wiki/List_of_nuclear_power_accidents_by_country.\n",
    "\n",
    "Najprej bom pregledala podatke o posameznih reaktorjih in jih predstavila, potem pa opisala nesreče in njihove posledice.  \n",
    "\n",
    "Podatke, ki sem jih prodobila za vsak reaktor vključujejo ime elektrarne, število reaktorjev, tip, model, status, moč, začetek gradnje, začetek delovanja in datum zaprtja.\n",
    "Za jedrske nesreče pa sem pridobila podatke o datumu in lokaciji, opis, število smrti in strošek, ki so ga povzročile. "
   ]
  },
  {
   "cell_type": "code",
   "execution_count": 8,
   "metadata": {},
   "outputs": [],
   "source": [
    "# paketi, ki jih potrebujemo za obdelavo podatkov\n",
    "import pandas as pd\n",
    "import numpy as np\n",
    "%matplotlib inline"
   ]
  },
  {
   "cell_type": "code",
   "execution_count": 9,
   "metadata": {},
   "outputs": [],
   "source": [
    "# naložimo razpredelnico, iz katere pridobivamo podatke o reaktorjih in nesrečah, ki so jih povzročili\n",
    "reaktorji = pd.read_csv('podatki/jedrski-reaktorji.csv')\n",
    "jedr_nesrece = pd.read_csv('podatki/jedrske-nesrece.csv')"
   ]
  },
  {
   "cell_type": "markdown",
   "metadata": {},
   "source": [
    "#### Celotna tabela\n",
    "\n",
    "Za boljšii pregled sem izpisala celotno tabelo s podatki o jedrskih reaktorjih."
   ]
  },
  {
   "cell_type": "code",
   "execution_count": 10,
   "metadata": {},
   "outputs": [
    {
     "data": {
      "text/html": [
       "<div>\n",
       "<style scoped>\n",
       "    .dataframe tbody tr th:only-of-type {\n",
       "        vertical-align: middle;\n",
       "    }\n",
       "\n",
       "    .dataframe tbody tr th {\n",
       "        vertical-align: top;\n",
       "    }\n",
       "\n",
       "    .dataframe thead th {\n",
       "        text-align: right;\n",
       "    }\n",
       "</style>\n",
       "<table border=\"1\" class=\"dataframe\">\n",
       "  <thead>\n",
       "    <tr style=\"text-align: right;\">\n",
       "      <th></th>\n",
       "      <th>Ime elektrarne</th>\n",
       "      <th>Lokacija</th>\n",
       "      <th>Številka reaktorja</th>\n",
       "      <th>Tip</th>\n",
       "      <th>Model</th>\n",
       "      <th>Status</th>\n",
       "      <th>Moč (MW)</th>\n",
       "      <th>Začetek gradnje</th>\n",
       "      <th>Začetek delovanja</th>\n",
       "      <th>Datum zaprtja</th>\n",
       "    </tr>\n",
       "  </thead>\n",
       "  <tbody>\n",
       "    <tr>\n",
       "      <th>0</th>\n",
       "      <td>NaN</td>\n",
       "      <td>Argentina</td>\n",
       "      <td>1</td>\n",
       "      <td>PHWR</td>\n",
       "      <td>Siemens-KWU</td>\n",
       "      <td>Operational</td>\n",
       "      <td>335</td>\n",
       "      <td>1 Jun 1968</td>\n",
       "      <td>24 Jun 1974</td>\n",
       "      <td>NaN</td>\n",
       "    </tr>\n",
       "    <tr>\n",
       "      <th>1</th>\n",
       "      <td>NaN</td>\n",
       "      <td>Argentina</td>\n",
       "      <td>2</td>\n",
       "      <td>PHWR</td>\n",
       "      <td>Siemens-KWU</td>\n",
       "      <td>Operational</td>\n",
       "      <td>692</td>\n",
       "      <td>14 Jul 1981</td>\n",
       "      <td>27 Jun 2014</td>\n",
       "      <td>NaN</td>\n",
       "    </tr>\n",
       "    <tr>\n",
       "      <th>2</th>\n",
       "      <td>NaN</td>\n",
       "      <td>Argentina</td>\n",
       "      <td>3</td>\n",
       "      <td>PWR</td>\n",
       "      <td>Hualong One</td>\n",
       "      <td>NaN</td>\n",
       "      <td>1200</td>\n",
       "      <td>NaN</td>\n",
       "      <td>NaN</td>\n",
       "      <td>NaN</td>\n",
       "    </tr>\n",
       "    <tr>\n",
       "      <th>3</th>\n",
       "      <td>NaN</td>\n",
       "      <td>Argentina</td>\n",
       "      <td>1</td>\n",
       "      <td>PHWR</td>\n",
       "      <td>CANDU-6</td>\n",
       "      <td>Operational</td>\n",
       "      <td>600</td>\n",
       "      <td>1 Apr 1974</td>\n",
       "      <td>20 Jan 1984</td>\n",
       "      <td>NaN</td>\n",
       "    </tr>\n",
       "    <tr>\n",
       "      <th>4</th>\n",
       "      <td>CAREM</td>\n",
       "      <td>Argentina</td>\n",
       "      <td>1</td>\n",
       "      <td>PWR</td>\n",
       "      <td>CAREM25</td>\n",
       "      <td>Under construction</td>\n",
       "      <td>25</td>\n",
       "      <td>8 Feb 2014</td>\n",
       "      <td>NaN</td>\n",
       "      <td>NaN</td>\n",
       "    </tr>\n",
       "    <tr>\n",
       "      <th>...</th>\n",
       "      <td>...</td>\n",
       "      <td>...</td>\n",
       "      <td>...</td>\n",
       "      <td>...</td>\n",
       "      <td>...</td>\n",
       "      <td>...</td>\n",
       "      <td>...</td>\n",
       "      <td>...</td>\n",
       "      <td>...</td>\n",
       "      <td>...</td>\n",
       "    </tr>\n",
       "    <tr>\n",
       "      <th>907</th>\n",
       "      <td>Yankee Rowe</td>\n",
       "      <td>United States</td>\n",
       "      <td>1</td>\n",
       "      <td>PWR</td>\n",
       "      <td>WH (DRY)</td>\n",
       "      <td>Dismantled</td>\n",
       "      <td>167</td>\n",
       "      <td>1 Nov 1957</td>\n",
       "      <td>1 Jul 1961</td>\n",
       "      <td>1 Oct 1991</td>\n",
       "    </tr>\n",
       "    <tr>\n",
       "      <th>908</th>\n",
       "      <td>Zion</td>\n",
       "      <td>United States</td>\n",
       "      <td>1</td>\n",
       "      <td>PWR</td>\n",
       "      <td>WH (DRY)</td>\n",
       "      <td>Dismantled</td>\n",
       "      <td>1040</td>\n",
       "      <td>1 Dec 1968</td>\n",
       "      <td>31 Dec 1973</td>\n",
       "      <td>13 Feb 1998</td>\n",
       "    </tr>\n",
       "    <tr>\n",
       "      <th>909</th>\n",
       "      <td>Zion</td>\n",
       "      <td>United States</td>\n",
       "      <td>2</td>\n",
       "      <td>PWR</td>\n",
       "      <td>WH (DRY)</td>\n",
       "      <td>Dismantled</td>\n",
       "      <td>1040</td>\n",
       "      <td>1 Dec 1968</td>\n",
       "      <td>17 Sep 1974</td>\n",
       "      <td>13 Feb 1998</td>\n",
       "    </tr>\n",
       "    <tr>\n",
       "      <th>910</th>\n",
       "      <td>Plant in the Jizzakh Region</td>\n",
       "      <td>Uzbekistan</td>\n",
       "      <td>1</td>\n",
       "      <td>PWR</td>\n",
       "      <td>VVER-1200</td>\n",
       "      <td>Planned</td>\n",
       "      <td>1200</td>\n",
       "      <td>NaN</td>\n",
       "      <td>NaN</td>\n",
       "      <td>NaN</td>\n",
       "    </tr>\n",
       "    <tr>\n",
       "      <th>911</th>\n",
       "      <td>Plant in the Jizzakh Region</td>\n",
       "      <td>Uzbekistan</td>\n",
       "      <td>2</td>\n",
       "      <td>PWR</td>\n",
       "      <td>VVER-1200</td>\n",
       "      <td>Planned</td>\n",
       "      <td>1200</td>\n",
       "      <td>NaN</td>\n",
       "      <td>NaN</td>\n",
       "      <td>NaN</td>\n",
       "    </tr>\n",
       "  </tbody>\n",
       "</table>\n",
       "<p>912 rows × 10 columns</p>\n",
       "</div>"
      ],
      "text/plain": [
       "                  Ime elektrarne       Lokacija Številka reaktorja   Tip  \\\n",
       "0                            NaN      Argentina                  1  PHWR   \n",
       "1                            NaN      Argentina                  2  PHWR   \n",
       "2                            NaN      Argentina                  3   PWR   \n",
       "3                            NaN      Argentina                  1  PHWR   \n",
       "4                          CAREM      Argentina                  1   PWR   \n",
       "..                           ...            ...                ...   ...   \n",
       "907                  Yankee Rowe  United States                  1   PWR   \n",
       "908                         Zion  United States                  1   PWR   \n",
       "909                         Zion  United States                  2   PWR   \n",
       "910  Plant in the Jizzakh Region     Uzbekistan                  1   PWR   \n",
       "911  Plant in the Jizzakh Region     Uzbekistan                  2   PWR   \n",
       "\n",
       "           Model              Status Moč (MW) Začetek gradnje  \\\n",
       "0    Siemens-KWU         Operational      335      1 Jun 1968   \n",
       "1    Siemens-KWU         Operational      692     14 Jul 1981   \n",
       "2    Hualong One                 NaN     1200             NaN   \n",
       "3        CANDU-6         Operational      600      1 Apr 1974   \n",
       "4        CAREM25  Under construction       25      8 Feb 2014   \n",
       "..           ...                 ...      ...             ...   \n",
       "907     WH (DRY)          Dismantled      167      1 Nov 1957   \n",
       "908     WH (DRY)          Dismantled     1040      1 Dec 1968   \n",
       "909     WH (DRY)          Dismantled     1040      1 Dec 1968   \n",
       "910    VVER-1200             Planned     1200             NaN   \n",
       "911    VVER-1200             Planned     1200             NaN   \n",
       "\n",
       "    Začetek delovanja Datum zaprtja  \n",
       "0         24 Jun 1974           NaN  \n",
       "1         27 Jun 2014           NaN  \n",
       "2                 NaN           NaN  \n",
       "3         20 Jan 1984           NaN  \n",
       "4                 NaN           NaN  \n",
       "..                ...           ...  \n",
       "907        1 Jul 1961    1 Oct 1991  \n",
       "908       31 Dec 1973   13 Feb 1998  \n",
       "909       17 Sep 1974   13 Feb 1998  \n",
       "910               NaN           NaN  \n",
       "911               NaN           NaN  \n",
       "\n",
       "[912 rows x 10 columns]"
      ]
     },
     "execution_count": 10,
     "metadata": {},
     "output_type": "execute_result"
    }
   ],
   "source": [
    "# rapredelnica podatkov o jedrskih reaktorjih\n",
    "reaktorji"
   ]
  },
  {
   "cell_type": "markdown",
   "metadata": {},
   "source": [
    "Lahko"
   ]
  },
  {
   "cell_type": "code",
   "execution_count": 11,
   "metadata": {},
   "outputs": [
    {
     "data": {
      "text/plain": [
       "343"
      ]
     },
     "execution_count": 11,
     "metadata": {},
     "output_type": "execute_result"
    }
   ],
   "source": [
    "#število jedrskih elektraren\n",
    "reaktorji[\"Ime elektrarne\"].nunique()"
   ]
  },
  {
   "cell_type": "code",
   "execution_count": 13,
   "metadata": {},
   "outputs": [
    {
     "data": {
      "text/plain": [
       "410"
      ]
     },
     "execution_count": 13,
     "metadata": {},
     "output_type": "execute_result"
    }
   ],
   "source": [
    "#število delujočih reaktorjev\n",
    "len(reaktorji.query('Status == \"Operational\"'))\n"
   ]
  },
  {
   "cell_type": "code",
   "execution_count": 15,
   "metadata": {},
   "outputs": [
    {
     "data": {
      "text/plain": [
       "114"
      ]
     },
     "execution_count": 15,
     "metadata": {},
     "output_type": "execute_result"
    }
   ],
   "source": [
    "#število reaktorjev, ki jih še planirajo zgraditi\n",
    "len(reaktorji.query('Status == \"Planned\"'))"
   ]
  },
  {
   "cell_type": "code",
   "execution_count": 16,
   "metadata": {},
   "outputs": [
    {
     "data": {
      "text/plain": [
       "103"
      ]
     },
     "execution_count": 16,
     "metadata": {},
     "output_type": "execute_result"
    }
   ],
   "source": [
    "#število zaprtih reaktorjev\n",
    "len(reaktorji.query('Status == \"Shut down\"'))"
   ]
  }
 ],
 "metadata": {
  "kernelspec": {
   "display_name": "venv",
   "language": "python",
   "name": "python3"
  },
  "language_info": {
   "codemirror_mode": {
    "name": "ipython",
    "version": 3
   },
   "file_extension": ".py",
   "mimetype": "text/x-python",
   "name": "python",
   "nbconvert_exporter": "python",
   "pygments_lexer": "ipython3",
   "version": "3.12.3"
  }
 },
 "nbformat": 4,
 "nbformat_minor": 2
}
