{
 "cells": [
  {
   "cell_type": "markdown",
   "metadata": {},
   "source": [
    "# Analiza jedrskih reaktorjev v komercialni uporabi in jedrskih nesreč po državah\n",
    "\n",
    "Pri projektni nalogi predmeta Uvod v programiranje bom analizirala podatke o jedrskih reaktojih, ki proizvajajo elektriko za različne države po svetu ter tudi nesreče, ki so jih povzročili. podatke sem pridobila iz dveh spletnih strani, [Link text](https://en.wikipedia.org/wiki/List_of_commercial_nuclear_reactors) in [Link text](https://en.wikipedia.org/wiki/List_of_nuclear_power_accidents_by_country).\n",
    "\n",
    "Podatke, ki sem jih prodobila za vsak reaktor, vključujejo ime elektrarne, število reaktorjev, tip, model, status, moč, začetek gradnje, začetek delovanja in datum zaprtja. "
   ]
  }
 ],
 "metadata": {
  "kernelspec": {
   "display_name": "venv",
   "language": "python",
   "name": "python3"
  },
  "language_info": {
   "name": "python",
   "version": "3.12.3"
  }
 },
 "nbformat": 4,
 "nbformat_minor": 2
}
